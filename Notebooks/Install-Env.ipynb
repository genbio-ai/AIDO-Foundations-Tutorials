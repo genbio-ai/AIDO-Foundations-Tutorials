{
 "cells": [
  {
   "cell_type": "markdown",
   "id": "d5e71dc9",
   "metadata": {},
   "source": [
    "# Install Conda Environment and ModelGenerator\n",
    "\n",
    "https://github.com/genbio-ai/AIDO-Foundations-Tutorials\n",
    "\n",
    "![qrcode](images/qrcode.png)\n",
    "\n",
    "1. Create an environment with Python 3.12\n",
    "2. Install ModelGenerator: https://github.com/genbio-ai/ModelGenerator\n"
   ]
  },
  {
   "cell_type": "markdown",
   "id": "775b8b9b",
   "metadata": {},
   "source": [
    "```bash\n",
    "# source /opt/miniconda/etc/profile.d/conda.sh\n",
    "conda create -n genbio python=3.12 -y\n",
    "conda activate genbio\n",
    "\n",
    "pip install torch==2.6.0 torchvision==0.21.0 torchaudio==2.6.0 --index-url https://download.pytorch.org/whl/cu118\n",
    "pip install datasets==3.0.0\n",
    "pip install hf_transfer tabulate\n",
    "git clone https://github.com/genbio-ai/ModelGenerator.git\n",
    "cd ModelGenerator\n",
    "pip install -e .\n",
    "```"
   ]
  },
  {
   "cell_type": "markdown",
   "id": "be18c758",
   "metadata": {},
   "source": [
    "## ModelGenerator\n",
    "\n",
    "* ModelGenerator loads models and Tokenizers based on **Transformers** library.\n",
    "* ModelGenerator fine-tunes tasks based on **Lightning** library.\n",
    "\n",
    "\n",
    "<img src=\"images/modelgenerator.png\" alt=\"ModelGenerator\" width=\"80%\"/>"
   ]
  },
  {
   "cell_type": "markdown",
   "id": "571d1aab",
   "metadata": {},
   "source": [
    "## Quick start: load model and tokenizer from ModelGenerator"
   ]
  },
  {
   "cell_type": "code",
   "execution_count": 2,
   "id": "d9766b35",
   "metadata": {},
   "outputs": [
    {
     "name": "stdout",
     "output_type": "stream",
     "text": [
      "modelgenerator_path: /jfs/pan-li/Demo/ModelGenerator/modelgenerator\n"
     ]
    }
   ],
   "source": [
    "import os\n",
    "os.environ['HF_HOME'] = '/tmp/hf_cache' # For accelerated model download and loading...\n",
    "import modelgenerator, torch, pathlib\n",
    "modelgenerator_path = str(pathlib.Path(modelgenerator.__file__).parent)\n",
    "print(f\"modelgenerator_path: {modelgenerator_path}\")\n",
    "from modelgenerator.huggingface_models.fm4bio import FM4BioForMaskedLM # ModelClass\n",
    "from modelgenerator.huggingface_models.fm4bio import FM4BioTokenizer # TokenizerClass"
   ]
  },
  {
   "cell_type": "code",
   "execution_count": 3,
   "id": "bf8989fc",
   "metadata": {},
   "outputs": [
    {
     "name": "stdout",
     "output_type": "stream",
     "text": [
      "True\n",
      "True\n"
     ]
    }
   ],
   "source": [
    "from transformers import PreTrainedModel, PreTrainedTokenizer\n",
    "print(issubclass(FM4BioForMaskedLM, PreTrainedModel))\n",
    "print(issubclass(FM4BioTokenizer, PreTrainedTokenizer))"
   ]
  },
  {
   "cell_type": "markdown",
   "id": "693adb30",
   "metadata": {},
   "source": [
    "[genbio-ai/AIDO.Protein-16B](https://huggingface.co/genbio-ai/AIDO.Protein-16B)"
   ]
  },
  {
   "cell_type": "code",
   "execution_count": 5,
   "id": "90b4a579",
   "metadata": {},
   "outputs": [
    {
     "name": "stderr",
     "output_type": "stream",
     "text": [
      "Loading checkpoint shards: 100%|██████████| 13/13 [00:07<00:00,  1.80it/s]\n"
     ]
    }
   ],
   "source": [
    "model = FM4BioForMaskedLM.from_pretrained(\"genbio-ai/AIDO.Protein-16B\")\n",
    "vocab_file = os.path.join(modelgenerator_path, \"huggingface_models/fm4bio/vocab_protein.txt\")\n",
    "tokenizer = FM4BioTokenizer(vocab_file=vocab_file)"
   ]
  },
  {
   "cell_type": "code",
   "execution_count": 6,
   "id": "721f5cab",
   "metadata": {},
   "outputs": [
    {
     "name": "stdout",
     "output_type": "stream",
     "text": [
      "FM4BioForMaskedLM(\n",
      "  (bert): FM4BioModel(\n",
      "    (embeddings): FM4BioEmbeddings(\n",
      "      (word_embeddings): Embedding(128, 2304, padding_idx=0)\n",
      "      (dropout): Dropout(p=0.0, inplace=False)\n",
      "    )\n",
      "    (encoder): FM4BioEncoder(\n",
      "      (layer): ModuleList(\n",
      "        (0-35): 36 x FM4BioLayer(\n",
      "          (attention): FM4BioAttention(\n",
      "            (ln): RnaRMSNorm()\n",
      "            (self): FM4BioSelfAttention(\n",
      "              (query): Linear(in_features=2304, out_features=2304, bias=True)\n",
      "              (key): Linear(in_features=2304, out_features=2304, bias=True)\n",
      "              (value): Linear(in_features=2304, out_features=2304, bias=True)\n",
      "              (dropout): Dropout(p=0.0, inplace=False)\n",
      "            )\n",
      "            (output): FM4BioSelfOutput(\n",
      "              (dense): Linear(in_features=2304, out_features=2304, bias=True)\n",
      "              (dropout): Dropout(p=0.0, inplace=False)\n",
      "            )\n",
      "          )\n",
      "          (ln): RnaRMSNorm()\n",
      "          (mlp): FM4BioMLP(\n",
      "            (router): Linear(in_features=2304, out_features=8, bias=False)\n",
      "            (dense_h_to_4h_0): Linear(in_features=2304, out_features=15360, bias=True)\n",
      "            (dense_4h_to_h_0): Linear(in_features=7680, out_features=2304, bias=True)\n",
      "            (dense_h_to_4h_1): Linear(in_features=2304, out_features=15360, bias=True)\n",
      "            (dense_4h_to_h_1): Linear(in_features=7680, out_features=2304, bias=True)\n",
      "            (dense_h_to_4h_2): Linear(in_features=2304, out_features=15360, bias=True)\n",
      "            (dense_4h_to_h_2): Linear(in_features=7680, out_features=2304, bias=True)\n",
      "            (dense_h_to_4h_3): Linear(in_features=2304, out_features=15360, bias=True)\n",
      "            (dense_4h_to_h_3): Linear(in_features=7680, out_features=2304, bias=True)\n",
      "            (dense_h_to_4h_4): Linear(in_features=2304, out_features=15360, bias=True)\n",
      "            (dense_4h_to_h_4): Linear(in_features=7680, out_features=2304, bias=True)\n",
      "            (dense_h_to_4h_5): Linear(in_features=2304, out_features=15360, bias=True)\n",
      "            (dense_4h_to_h_5): Linear(in_features=7680, out_features=2304, bias=True)\n",
      "            (dense_h_to_4h_6): Linear(in_features=2304, out_features=15360, bias=True)\n",
      "            (dense_4h_to_h_6): Linear(in_features=7680, out_features=2304, bias=True)\n",
      "            (dense_h_to_4h_7): Linear(in_features=2304, out_features=15360, bias=True)\n",
      "            (dense_4h_to_h_7): Linear(in_features=7680, out_features=2304, bias=True)\n",
      "          )\n",
      "          (output): FM4BioOutput(\n",
      "            (dropout): Dropout(p=0.0, inplace=False)\n",
      "          )\n",
      "        )\n",
      "      )\n",
      "      (ln): RnaRMSNorm()\n",
      "    )\n",
      "    (rotary_pos_emb): RotaryEmbedding()\n",
      "  )\n",
      "  (output_embed): Linear(in_features=2304, out_features=128, bias=False)\n",
      ")\n"
     ]
    }
   ],
   "source": [
    "print(model)"
   ]
  },
  {
   "cell_type": "markdown",
   "id": "df34489f",
   "metadata": {},
   "source": [
    "## Models in this tutorial\n",
    "\n",
    "### AIDO.Protein-16B\n",
    "\n",
    "[AIDO.Protein-16B](https://huggingface.co/genbio-ai/AIDO.Protein-16B) is a protein language model, trained on 1.2 trillion amino acids sourced from UniRef90 and ColabFoldDB.\n",
    "\n",
    "<img src=\"images/proteinmoe_architecture.png\" alt=\"AIDO.Protein\" width=\"600\" style=\"background-color:white;\"/>\n",
    "\n",
    "### AIDO.Protein-RAG-16B\n",
    "\n",
    "[AIDO.Protein-RAG-16B](https://huggingface.co/genbio-ai/AIDO.Protein-RAG-16B) is a multimodal protein language model that integrates Multiple Sequence Alignment (MSA) and structural data, building upon the [AIDO.Protein-16B](https://huggingface.co/genbio-ai/AIDO.Protein-16B) foundation. \n",
    "\n",
    "<img src=\"images/rag_2.png\" alt=\"AIDO.Protein-RAG\" width=\"400\" style=\"background-color:white;\"/>\n",
    "\n",
    "### AIDO.DNA-300M\n",
    "\n",
    "[AIDO.DNA-300M](https://huggingface.co/genbio-ai/AIDO.DNA-300M) is DNA foundation model trained on 10.6 billion nucleotides from 796 species, enabling genome mining, in silico mutagenesis studies, gene expression prediction, and directed sequence generation.\n",
    "\n",
    "<img src=\"images/DNA_300M.png\" alt=\"DNA_300M\" width=\"50%\" style=\"background-color:white;\"/>"
   ]
  },
  {
   "cell_type": "markdown",
   "id": "6721c78e",
   "metadata": {},
   "source": [
    "## More resources"
   ]
  },
  {
   "cell_type": "markdown",
   "id": "fe66b8fa",
   "metadata": {},
   "source": [
    "* **HuggingFace**: https://huggingface.co/genbio-ai\n",
    "  \n",
    "  <img src=\"images/hf_collections.png\" alt=\"hf_collections\" width=\"50%\" style=\"background-color:white;\"/>\n",
    "\n",
    "* **Github**: https://github.com/genbio-ai/ModelGenerator/\n",
    "    \n",
    "    <img src=\"images/github_modelgenerator.png\" alt=\"github_modelgenerator\" width=\"50%\" style=\"background-color:white;\"/>\n",
    "\n",
    "* **Documentation**: https://genbio-ai.github.io/ModelGenerator/\n",
    "    \n",
    "    <img src=\"images/mg_documentation.png\" alt=\"mg_documentation\" width=\"50%\" style=\"background-color:white;\"/>\n"
   ]
  },
  {
   "cell_type": "markdown",
   "id": "caee8fa1",
   "metadata": {},
   "source": []
  }
 ],
 "metadata": {
  "kernelspec": {
   "display_name": "genbio",
   "language": "python",
   "name": "python3"
  },
  "language_info": {
   "codemirror_mode": {
    "name": "ipython",
    "version": 3
   },
   "file_extension": ".py",
   "mimetype": "text/x-python",
   "name": "python",
   "nbconvert_exporter": "python",
   "pygments_lexer": "ipython3",
   "version": "3.12.12"
  }
 },
 "nbformat": 4,
 "nbformat_minor": 5
}
