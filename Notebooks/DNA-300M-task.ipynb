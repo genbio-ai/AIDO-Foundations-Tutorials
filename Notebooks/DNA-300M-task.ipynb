{
 "cells": [
  {
   "cell_type": "markdown",
   "id": "15731894",
   "metadata": {},
   "source": [
    "## AIDO.DNA-300M\n",
    "\n",
    "[AIDO.DNA-300M](https://huggingface.co/genbio-ai/AIDO.DNA-300M) is DNA foundation model trained on 10.6 billion nucleotides from 796 species, enabling genome mining, in silico mutagenesis studies, gene expression prediction, and directed sequence generation.\n",
    "\n",
    "By scaling model depth while maintaining a short context length of 4000 nucleotides, AIDO.DNA shows substantial improvements across a breadth of tasks in functional genomics using transfer learning, sequence generation, and unsupervised annotation of functional elements. Notably, AIDO.DNA outperforms prior encoder-only architectures without new data, suggesting that new scaling laws are needed to achieve compute-optimal DNA language models.\n",
    "\n",
    "<img src=\"images/DNA_300M.png\" alt=\"DNA_300M\" width=\"50%\" style=\"background-color:white;\"/>\n",
    "\n",
    "| Model Arch Component        | Value          |\n",
    "| ------------- |:-------------:|\n",
    "| Num Attention Heads      | 32  |\n",
    "| Num Hidden Layers      | 32       |\n",
    "| Hidden Size | 4352       |\n",
    "| Intermediate Size | 11584       |\n",
    "| Vocab Size | 16      |\n",
    "| Context Length | 4000      |"
   ]
  },
  {
   "cell_type": "markdown",
   "id": "095df1f8",
   "metadata": {
    "vscode": {
     "languageId": "plaintext"
    }
   },
   "source": [
    "Config file:\n",
    "* [gue_core_promoter_all.yaml](../ModelGenerator/experiments/AIDO.DNA/sequence_classification/gue_core_promoter_all.yaml)\n",
    "\n",
    "#### Add Logger to yaml\n",
    "\n",
    "```yaml\n",
    "trainer:\n",
    "  logger:\n",
    "  - class_path: lightning.pytorch.loggers.WandbLogger\n",
    "    init_args:\n",
    "      name: null\n",
    "      project: null\n",
    "      id: null\n",
    "```\n",
    "\n",
    "#### Training command\n",
    "\n",
    "```bash\n",
    "export HF_HOME=/tmp/hf_cache\n",
    "mgen fit \\\n",
    "    --config experiments/AIDO.DNA/sequence_classification/gue_core_promoter_all.yaml \\\n",
    "    --trainer.num_nodes 1 \\\n",
    "    --trainer.logger.name gue_core_promoter_all \\\n",
    "    --trainer.logger.project AIDO_Demo \\\n",
    "    --data.batch_size 8\n",
    "```\n",
    "\n",
    "<img src=\"images/dna_curve.png\" alt=\"dna_curve\" width=\"90%\" style=\"background-color:white;\"/>"
   ]
  },
  {
   "cell_type": "markdown",
   "id": "06954197",
   "metadata": {},
   "source": [
    "## Create object step by step in Jupyter Notebook"
   ]
  },
  {
   "cell_type": "markdown",
   "id": "49e2d164",
   "metadata": {},
   "source": [
    "```yaml\n",
    "data:\n",
    "  class_path: modelgenerator.data.GUEClassification\n",
    "  init_args:\n",
    "    config_name: prom_core_all\n",
    "    train_split_name: train\n",
    "    test_split_name: test\n",
    "    batch_size: 4\n",
    "```"
   ]
  },
  {
   "cell_type": "code",
   "execution_count": 1,
   "id": "cc7cdc76",
   "metadata": {},
   "outputs": [
    {
     "name": "stderr",
     "output_type": "stream",
     "text": [
      "> Randomly split 0.1 of train for validation. Random seed: 42\n"
     ]
    },
    {
     "name": "stdout",
     "output_type": "stream",
     "text": [
      "42620\n",
      "5920\n"
     ]
    }
   ],
   "source": [
    "from modelgenerator.data import GUEClassification\n",
    "\n",
    "datamodule = GUEClassification(config_name='prom_core_all', train_split_name='train', test_split_name='test', batch_size=4)\n",
    "datamodule.setup()\n",
    "\n",
    "print(len(datamodule.train_dataset))\n",
    "print(len(datamodule.test_dataset))"
   ]
  },
  {
   "cell_type": "code",
   "execution_count": 4,
   "id": "5e61f9cb",
   "metadata": {},
   "outputs": [
    {
     "data": {
      "text/plain": [
       "{'sequences': 'CGAGCCTCAGGAGGGAGGCTTCTCGTATAGTCTCCCCCTACTGGATCCGTTCGCTTCAGCGGGCGCCAGG',\n",
       " 'labels': 0}"
      ]
     },
     "execution_count": 4,
     "metadata": {},
     "output_type": "execute_result"
    }
   ],
   "source": [
    "sample = datamodule.train_dataset[0]\n",
    "sample"
   ]
  }
 ],
 "metadata": {
  "kernelspec": {
   "display_name": "genbio",
   "language": "python",
   "name": "python3"
  },
  "language_info": {
   "codemirror_mode": {
    "name": "ipython",
    "version": 3
   },
   "file_extension": ".py",
   "mimetype": "text/x-python",
   "name": "python",
   "nbconvert_exporter": "python",
   "pygments_lexer": "ipython3",
   "version": "3.12.12"
  }
 },
 "nbformat": 4,
 "nbformat_minor": 5
}
