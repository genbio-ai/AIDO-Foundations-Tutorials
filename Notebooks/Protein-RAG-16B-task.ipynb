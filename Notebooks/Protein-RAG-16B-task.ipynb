{
 "cells": [
  {
   "cell_type": "markdown",
   "id": "ce5c8483",
   "metadata": {},
   "source": [
    "# AIDO.Protein-RAG-16B\n",
    "\n",
    "[IDO.Protein-RAG-16B](https://huggingface.co/genbio-ai/AIDO.Protein-RAG-16B) is a multimodal protein language model that integrates Multiple Sequence Alignment (MSA) and structural data, building upon the AIDO.Protein-16B foundation. The training process comprises three main stages:\n",
    "\n",
    "1. 2D RoPE encoding fine-tuning\n",
    "2. Initial training on 100 billion tokens from UniRef50/UniClust30 MSA data\n",
    "3. Subsequent training on 80 billion tokens from AlphaFold Database MSA and structural data\n",
    "\n",
    "<img src=\"images/rag_1.png\" alt=\"AIDO.Protein-RAG\" width=\"300\" style=\"background-color:white;\"/>\n",
    "\n",
    "<img src=\"images/rag_2.png\" alt=\"AIDO.Protein-RAG\" width=\"400\" style=\"background-color:white;\"/>\n",
    "\n",
    "| Hyper-params                | (1) 1D -> 2D finetuning | (2) UniRef50/Uniclust30 MSA finetuning | (3) AFDB MSA & Structure tokens finetuning |\n",
    "| --------------------------- | :---------------------: | :------------------------------------: | :----------------------------------------: |\n",
    "| Initialized parameters      |   AIDO.Protein-16B      |       Stage (1)                        |                      Stage (2)             |\n",
    "| Data                        |   ColabFoldDB, UniRef   |       HHblits_MSA, Retriever_MSA       |        AFDB MSA & Structure tokens         |\n",
    "| Global Batch Size           |           512           |                  256                   |                    256                     |\n",
    "| Sequence length             |          2048           |                 12800                  |                   12800                    |\n",
    "| Per Device Micro Batch Size |            1            |                   1                    |                     1                      |\n",
    "| Precision                   |     Mixed FP32-FP16     |            Mixed FP32-FP16             |              Mixed FP32-FP16               |\n",
    "| LR                          |       [5e-6,5e-5]       |              [1e-6, 1e-5]              |                    1e-5                    |\n",
    "| Num Tokens                  |       10 billion        |              100 billion               |                 80 billion                 |\n"
   ]
  },
  {
   "cell_type": "markdown",
   "id": "65fab11a",
   "metadata": {},
   "source": [
    "## Create object step by step in Jupyter Notebook"
   ]
  },
  {
   "cell_type": "markdown",
   "id": "35c2c3da",
   "metadata": {},
   "source": [
    "```yaml\n",
    "data:\n",
    "  class_path: modelgenerator.data.DMSFitnessPrediction\n",
    "  init_args:\n",
    "    path: genbio-ai/ProteinGYM-DMS-RAG\n",
    "    is_rag_dataset: true\n",
    "    train_split_files: null\n",
    "    config_name: NCAP_I34A1_Doud_2015\n",
    "    x_col: sequences\n",
    "    extra_cols:\n",
    "    - msa\n",
    "    - str_emb\n",
    "    extra_col_aliases:\n",
    "    - msa\n",
    "    - str_emb\n",
    "    train_split_name: 'train'\n",
    "    random_seed: 42\n",
    "    batch_size: 1\n",
    "    cv_num_folds: 5\n",
    "    cv_test_fold_id: 0\n",
    "    cv_enable_val_fold: false\n",
    "    cv_replace_val_fold_as_test_fold: true\n",
    "    cv_fold_id_col: fold_id\n",
    "    msa_random_seed: 1\n",
    "    max_context_length: 6400\n",
    "```\n",
    "\n",
    "datasets: `pip install datasets==3.0.0`"
   ]
  },
  {
   "cell_type": "code",
   "execution_count": 2,
   "id": "63575afd",
   "metadata": {},
   "outputs": [
    {
     "name": "stderr",
     "output_type": "stream",
     "text": [
      "Repo card metadata block was not found. Setting CardData to empty.\n",
      "label: mean = [-2.74618815], std = [1.2256391]\n"
     ]
    }
   ],
   "source": [
    "import os\n",
    "os.environ[\"HF_HOME\"] = \"/tmp/hf_cache\"\n",
    "\n",
    "from modelgenerator.data import DMSFitnessPrediction\n",
    "\n",
    "datamodule = DMSFitnessPrediction(\n",
    "    path=\"genbio-ai/ProteinGYM-DMS-RAG\", \n",
    "    is_rag_dataset=True, \n",
    "    train_split_files=None, \n",
    "    config_name=\"NCAP_I34A1_Doud_2015\", \n",
    "    x_col=\"sequences\", \n",
    "    extra_cols=[\"msa\", \"str_emb\"], \n",
    "    extra_col_aliases=[\"msa\", \"str_emb\"], \n",
    "    train_split_name=\"train\", \n",
    "    random_seed=42, \n",
    "    batch_size=1, \n",
    "    cv_num_folds=5, \n",
    "    cv_test_fold_id=0, \n",
    "    cv_enable_val_fold=False, \n",
    "    cv_replace_val_fold_as_test_fold=True, \n",
    "    cv_fold_id_col=\"fold_id\", \n",
    "    msa_random_seed=1, \n",
    "    max_context_length=6400)\n",
    "\n",
    "datamodule.setup()"
   ]
  },
  {
   "cell_type": "code",
   "execution_count": 3,
   "id": "f9afac0f",
   "metadata": {},
   "outputs": [
    {
     "name": "stdout",
     "output_type": "stream",
     "text": [
      "7540\n",
      "1922\n",
      "1922\n"
     ]
    }
   ],
   "source": [
    "print( len(datamodule.train_dataset) )\n",
    "print( len(datamodule.val_dataset) )\n",
    "print( len(datamodule.test_dataset) )"
   ]
  },
  {
   "cell_type": "code",
   "execution_count": 4,
   "id": "1a2b1d87",
   "metadata": {},
   "outputs": [
    {
     "name": "stdout",
     "output_type": "stream",
     "text": [
      "\u001b[0;34;49msequences\u001b[0m: \u001b[0;33;49mtype\u001b[0m=builtins.str, \u001b[0;33;49mv[:20]\u001b[0m=LASQGTKRSYEQMETDGERQ\n",
      "\u001b[0;34;49mlabels\u001b[0m: \u001b[0;33;49mtype\u001b[0m=numpy.ndarray, \u001b[0;33;49mv.dtype\u001b[0m=float64, \u001b[0;33;49mv.shape\u001b[0m=(1,)\n",
      "\u001b[0;34;49mmsa\u001b[0m: \u001b[0;33;49mtype\u001b[0m=builtins.list, \u001b[0;33;49mlen(v)\u001b[0m=91\n",
      "\u001b[0;34;49mstr_emb\u001b[0m: \u001b[0;33;49mtype\u001b[0m=numpy.ndarray, \u001b[0;33;49mv.dtype\u001b[0m=float32, \u001b[0;33;49mv.shape\u001b[0m=(498, 384)\n"
     ]
    }
   ],
   "source": [
    "sample = datamodule.train_dataset[0]\n",
    "print_dict(sample)"
   ]
  },
  {
   "cell_type": "code",
   "execution_count": 10,
   "id": "016e31ec",
   "metadata": {},
   "outputs": [
    {
     "data": {
      "text/plain": [
       "{'sequences': 'LASQGTKRSYEQMETDGERQNATEIRASVGKMIGGIGRFYIQMCTELKLSDYEGRLIQNSLTIERMVLSAFDERRNKYLEEHPSAGKDPKKTGGPIYRRVNGKWMRELILYDKEEIRRIWRQANNGDDATAGLTHMMIWHSNLNDATYQRTRALVRTGMDPRMCSLMQGSTLPRRSGAAGAAVKGVGTMVMELVRMIKRGINDRNFWRGENGRKTRIAYERMCNILKGKFQTAAQKAMMDQVRESRNPGNAEFEDLTFLARSALILRGSVAHKSCLPACVYGPAVASGYDFEREGYSLVGIDPFRLLQNSQVYSLIRPNENPAHKSQLVWMACHSAAFEDLRVLSFIKGTKVLPRGKLSTRGVQIASNENMETMESSTLELRSRYWAIRTRSGGNTNQQRASAGQISIQPTFSVQRNLPFDRTTIMAAFNGNTEGRTSDMRTEIIRMMESARPEDVSFQGRGVFELSDEKAASPIVPSFDMSNEGSYFFGDNAEEYDN',\n",
       " 'labels': array([1.72476094]),\n",
       " 'msa': ['MASQGTKRSYEQMETDGERQNATEIRASVGKMIGGIGRFYIQMCTELKLSDYEGRLIQNSLTIERMVLSAFDERRNKYLEEHPSAGKDPKKTGGPIYRRVNGKWMRELILYDKEEIRRIWRQANNGDDATAGLTHMMIWHSNLNDATYQRTRALVRTGMDPRMCSLMQGSTLPRRSGAAGAAVKGVGTMVMELVRMIKRGINDRNFWRGENGRKTRIAYERMCNILKGKFQTAAQKAMMDQVRESRNPGNAEFEDLTFLARSALILRGSVAHKSCLPACVYGPAVASGYDFEREGYSLVGIDPFRLLQNSQVYSLIRPNENPAHKSQLVWMACHSAAFEDLRVLSFIKGTKVLPRGKLSTRGVQIASNENMETMESSTLELRSRYWAIRTRSGGNTNQQRASAGQISIQPTFSVQRNLPFDRTTIMAAFNGNTEGRTSDMRTEIIRMMESARPEDVSFQGRGVFELSDEKAASPIVPSFDMSNEGSYFFGDNAEEYDN',\n",
       "  'MASQGTKRSYEQMETDGERQNATEIRASVGRMIGGIGRFYIQMCTELKLNDYEGRLIQNSLTIERMVLSAFDERRNKYLEEHPSAGKDPKKTGGPIYKRVDGKWVRELVLYDKEEIRRIWRQANNGDDATAGLTHIMIWHSNLNDTTYQRTRALVRTGMDPRMCSLMQGSTLPRRSGAAGAAVKGVGTMVLELIRMIKRGINDRNFWRGENGRKTRIAYERMCNILKGKFQTAAQKAMMDQVRESRNPGNAEIEDLTFLARSALILRGSVAHKSCLPACVYGPAVASGYDFEKEGYSLVGVDPFKLLQTSQVYSLIRPNENPAHKSQLVWMACNSAAFEDLRVSSFIRGTRVLPRGKLSTRGVQIASNENMDAIVSSTLELRSRYWAIRTRSGGNTNQQRASAGQISTQPTFSVQRNLPFDKATIMAAFSGNTEGRTSDMRAEIIKMMESARPEEVSFQGRGVFELSDERATNPIVPSFDMSNEGSYFFGDNAEEYDN',\n",
       "  'MASQGTKRSYEQMETDGERQNATEIRASVGKMIGGIGRFYIQMCTELKLNDHEGRLIQNSLTIERMVLSAFDERRNKYLEEHPSAGKDPKKTGGPIYRRVDGKWVRELVLYDKEEVRRIWRQANNGDDATAGLTHIMIWHSNLNDTTYQRTRALVRTGLDPRMCSLMQGSTLPRRSGAAGAAVKGVGTMVLELIRMIKRGINDRNFWRGENGRKTRIAYERMCNILKGKFQTAAQRAMMDQVRESRNPGNAEIEDLTFLARSALILRGSVAHKSCLPACVYGPAVASGYDFEKEGYSLVGIDPFKLLQTSQVYSLIRPNENPAHKSQLVWMACNSAAFEDLRVSSFIRGTKVLPRGKLSTRGVQIASNENMDSIVSSTLELRSRYWAIRTRSGGNTNQQKASAGQISIQPTFSVQRNLPFDKTTIMAAFTGNAEGRTSDMRAEIIKMMESAKPEEVSFQGRGVFELSDERATNPIVPSFDMSNEGSYFFGDNAEEYDN',\n",
       "  'MASQGTKRSYEQMETGGERQNATEIRASVGRMVSGIGRFYIQMCTELKLSDNEGRLIQNSITIERMVLSAFDERRNRYLEEHPSAGKDPKKTGGPIYRRRDGKWVRELILYDKEEIRRIWRQANNGEDATAGLTHLMIWHSNLNDATYQRTRALVRTGMDPRMCSLMQGSTLPRRSGAAGAAVKGIGTMVMELIRMIKRGINDRNFWRGENGRRTRVAYERMCNILKGKFQTAAQRAMVDQVRESRSPGNAEIEDLIFLARSALILRGSVAHKSCLPACVYGLAVASGYDFEREGYSLVGIDPFRLLQNSQVFSLIRPNENPAHKSQLVWMACHSAAFEDLRVSSFIRGTRMVPRGQLSTRGVQIASNENMEAMDSNTLELRSRYWAIRTRSGGNTNQQRASAGQISVQPTFSVQRNLPFERATIMAAFTGNTEGRTSDMRTEIIRMMESARPEDVSFQGRGVFELSDEKATNPIVPSFDMSNEGSYFFGDNAEEYDN',\n",
       "  'MASQGNKRSYEQMETDGDRQNATEIRASVGKMIDGIGRFYIQMCTELELSDYEGRLIQNSLTIERMVLSAFDERRNKYLEEHPSAGKDPKKTGGPIYRRVNGRWMRELVLYDKEEIRRIWRQANNGEDATAGLTHMMIWHSNLNDTTYQRTRALVRTGMDPRMCSLMQGSTLPRRSGAAGAAIKGIGTMVMELIRMVKRGINDRNFWRGENGRKTRSAYERMCNILKGKFQTAAQKAMVDQVRESRNPRNAEIEDLIFLARSALILRGSVAHKSCLPACVYGPAVSSGYDFEKEGYSLVGIDPFKLLQNSQVYSLIRPNENPAHKSQLVWMACHSAAFEDLRLLSFIRGTKVSPRGKLSTRGVQIASNENMDNMGSSTLELRSGYWAIRTRSGGNINPQRASAGQISVQPTFSVQRNLPFEKSTVMAAFTGNTEGRTSDMRAEIIRMMEGAKPEEVSFRGRGVFELSDEKATNPIVPSFEMSNEGSYFFGDNAEEYDN',\n",
       "  'MASQGTKRSYEQMETGGERQDATEIQASVGRMIGGIGRLYIQMCTELKLSDYDGVIIQNSTSIEMPNLFASVERRNKYLEAHPSAGKDLKRTGGPTYRRIDGKWMRELILYDKEEIRRESRQANNPEDATAGLTHIMIWHSNLNDATYQRTRALVRTGMDPRMCSLMQGSTLPRRSGAAGAAGKGVGTIAMELIRMIKRGINDRNFWRGENGRRTRVAYERMCNILKGKFQTAAQRAMMDQVRESRNPGNAEIEDLIFLARSALILRGSVAHKSCLPACVYGLAVASGHDFEREGYSLVGIDPFKLLQNSQVVSLMRPNENPAHKSQLVWMACHSAAFEDLRVSSFIRGKKVIPRGKLSTRGVQIASNENVETMDSNTLELRSRYWAIRTRSGGNTNQQKASAGQISVQPTFSVQRNLPFERATVMAAFSGNNEGRTSDMRTEVIRMMESAKPEDLSFQGRGVFELSDEKATNPIVPSFDMSNEGSYFFGDNAEEYDN',\n",
       "  'MASQGTKRSYEQMETGNEKQNATEIRSSVGRMISGIGRFYIQMCTELKLNDQEGRLIQNSITIERMVLSAFDERRNKYLEDHPNSGKDPKKTGGPIYRRRDNKWVRELILQDKEEIRRIWKQANNGEEATAGLTHIMIWHSNLNDATYQRTRALVRTGMDPRMCSLMQGSTLPRRSGAAGAAVKGVGTMSMELIRMIKRGINDRNFWRGDNGRKTRVAYERMCNILKGKFQTAAQRAMMDQVGESRNPGNAEIEDLIFLARSALILRGSVAHKSCLPACVYGLAVASGYDFEREGYSLVGVDPFKLFQNSQVFSLMRQNENPAHKSQLVWMACHAAAFEDLRVSSFIRGTKLLPRGKLSIRGIQIASNENMDTTESSTLELRSKYWAIRTKSGGNTNQQKASSGQISVQPTFSVQRNIPFERSTIMAAFVGNNEGRTSDMRTEIIRMMENAKPGDISFHGRGVFELSDEKAANPIVPSLDMSNEGSYFFGDNADDFDN',\n",
       "  '------KRSYEQMEIGGERQNATEIRASVGRMVGGIGKFYIQMCTELKLSDHECRLIQNSITIERMVLSAFDERRNRYLEEHPSAGKDPKKTGGPIYRRREGKWMRELILYDKEEIRRIWRQANNGEDATAGLTHLMIWHSNLNDATYQRTRALVRTGMDPRMCSLMQGSTLPRRSGAAGAAIKGIGTMVMELIRMIKRGINDRNFWRGENGRRTRIAYERMCNILKGKFQTAAQRAMVDQVRESRNPGNAEIEDLIFLARSALILRGSVAHKSCLPACIYGLAVASGYDFEREGYSLVGIDPFRLLQNSQVFSLIRSNENPAHKSQLIWMACHSAAFEDLRVSSFIRGTRVVPRGQLSTRGVQIASNENMETVDSSTLELRSRYWAIRTRSGGNTNQHRASAGQISVQPTFSVQRSLPFERATIMAAFTGNTEGRTSDMRTEIIRMMESASPKNGPFQRREASNPPNKKQTNPTGPPFEKKKEGSYFFGDNAEEYDN',\n",
       "  'MASQGTKRSYEQMETGGERQNATEIRASVGRMVGGIGRFYIQMCTELKLSDYEGRLIQNSITIERMALSAFDERRNKYLEEHPTVGKDPKKTGGPIYRRKDGKWEREMALMEKENIRAIWKMANEGEENLSGLSHIMIWHSNLNDTTYQRTRALVRTGMDPRMCSLMQGSTLPRRAGAAGTAVKGVGTLIMELIRMIKRGMNDRNFWKGEQGRRTRTAYERLCGNLKGKFQTAPQKAMVDQVKEGKNPGNAEIEDLLFLARSALILRGAVAHKSALPACVYGLGVARGFDFEREGYSLVGIDPFRLLQNSQVFSLIRPKENPAHKSQLVWMACHSAAFEDLRVSSFIRGARVVPRGQLSTRGVQIASNENMETMESSTLELRSRYWAIRTRSGGNTNQQRASAGQISVQPTFSVQRNLPFERATIMAAFTGNTEGRTSDMRTEIIRMMENARPEDVSFQGRGVFELSDEKATNPIVPSFDMNNEGSYFFGDNAEEYNN',\n",
       "  'MASHGTNRSYEQMESGGERQSATDIRASVGKMVSGIGRFYIQMCTELKLSDNEGRLIQNSTTIKRMVLSAFDEERNKYLEKHPRAEKDPKKTGGPFYRKKNGKGVKKLILYDKKKIRRIWRQANKEKNATAGLTHLMIWHSNLNDAPYQKTKALGRTERNPRMCSLMQGSTLPRKSGAAGAAVKGIGTMVMELIRMIKRGINDRNFWRGENGRRTRIAYERMCNILKGKFQTAAQRAMMDQVRESRNPGNAEIEDLIFLARSALILRGSVAHKSCLPACVYGLAVASGYDFEREGYSLVGIDPFRLLQNSQVFSLIRPNENPAHKSQLVWMACHSAAFEDLRVSSFIRGTRMXPRGQLSTRGVQIASNENMEAMDSNTLELRSRYWAIRTRSGGNTNQQRASAGQXSVQPTFSVQRNLPFERATIMAAFTGNTEGRTSDMRTEIIRMMEXARPEDVSFQGRGVFELSDEKATNPIVPSFDMNNEGSIY----------',\n",
       "  'MASQGTKRSYEQMETGGERQNATEIRASVGRMVGGIGRFYIQMCTELKLSDYEGRLIQNSITIERMVLSAFDERRNKYLEEHPSAGKDPKKTGGPIYRRRDGKWMRELILYDKEEIRRIWRQANNGEDATAGLTHLMIWHSNLNDATYQRTRALVRTGMDPRMCSLMQGSTLPRRSGAAGAAVKGVGTMVMELIRMIKRGINDRNFWRGENGRRTRIAYERMCNILKGKFQTAAQRAMMDQVRESRNPGNAEIEDLIFLARSALILRGSVAHKSCLPACVYGLSVASGYDFEREGYSLVGRDPYLLLQNSQIFSILRKGENAAHKSQLVWMACHAAAFEDIRISSFIKGSKIIPRGKLETRGLQIAGSESLDEILVISLDLKSHYWAIKTRSGGNPQQSRSTAGQIAVQPTFSVQRNIPFEKKTIMAAFSTTEEGRITDMRTEIIRLMENSDPKEKVFIGRGVFEMGDEKATNPIVPPLDGNDEGSYFFGDKADEFD-',\n",
       "  '-----------------------------------------------------------------------------------------------IYRRRDGKWMRELILYDKEEIRRIWRQANNGEDATAGLTHLMIWHSNLNDATYQRTRALVRTGMDPRMCSLMQGSTLPRRSGAAGAAVKGVGTMVMELIRMIKRGINDRNFWRGENGRRTRIAYERMCNILKGKFQTAAQRAMMDQVRESRNPGNAEIEDLIFLARSALILRGSVAHKSCLPACVYGLAVASGYDFEREGYSLVGIDPFRLLQNSQVFSLIRPNENPAHKSQLVWMACHSAAFEDL--SSFIRGTRVVPRGQLSTRGVQIASNENMETMDSSTLELRSRYWAIRTRSGGNTNQQRASAGQISVQPTFSVQRNLPFERATIMAAFTGNTEGRTSDMRTEIIRMMENARPEDVSFQGRGVFELSDEKATNPIVPSFDMSNEGSYFFGDNA-----',\n",
       "  '---------------------------------------------------------------------------NKYLEEHPSAGKDPKKTGGPIYKRVDGKWMRELVLYDKEEIRRIWRQANNGDDATAGLTHMMIWHSNLNDTTYQRTRALVRTGMDPRMCSLMQGSTLPRRSGAA-AAVKGVGTMVMELIRMIKRGINDRNFWRGENGRKTRIAYERMCNILKGKFQTAAQRAMMDQVRESRNPGNAEIEDLIFLARSALILRGSVAHKSCLPACVYGPAVASGYEFEKEGYSLVGIDPFKLLQNSQVYSLIRPNENPAHKSQLVWMACNSAAFEDIRVSSFIRGTKVIPRGKLSTRGVQIASNENMDTMESSTLELRSRYWAIRTRSGGNTNQQRASAGQISVQPTFSVQRNLPFDKPTIMAAFTGNAEGRTSDMRAEIIRMMEGSKPEEVSFQGRGVFELSDEKAT--------------------------',\n",
       "  'MAGQGTKRTFEQMET-DSKQNTTEIRSAVGRMVKAIGRFYIQMCAELKLDDKEAVLIQNSLTIERMVLSAFDERRNKYLEEHPTVGKDPKKTGGPIYRRKEGKWEREMVLMEKENIRAIWKMANDGEENLSGLSHIMIWHSNLNDTTYQRTRALVRTGMDPRMCSLMQGSTLPRRAGAAGAAIKGVGTLIMELIRMIKRGMNDRNFWKGEQGKRTRAAYERICNNLKNKFQTAPQKAMVDQVKEGKNPGNAEIEDLLFLARSALILRGAVAHKSSLPACVYGLGVSRGFDFEREGYSLVGRDPYMLLQNSQIFSIIRKGENAAHKSQLVWMACHAAAFEDIRVSSFIKGNKIVPRGKLETRGLQIAGSETLDEALVVSLDIKSHYWAIKTRSGGNPQQSRSSAGQIAVQPTFSVQRNIPFEKKTIMAAFSNIEEGRVTDMRTEIIKLMENSDPKDKVFLGRGVFEMADEKATNPIVPSLDGNDEGSYFFGDKAEEFD-',\n",
       "  '--------------------------------------------------------------------------------------------------------------YDKEEIRRIWRQANNGEDATAGLTHLMXWHSNLNDATYQRTRALVRTGMDPRMCSLMQGSTLPRRSGAAGAAVKGIGTMVMELIRMIKRGINDRNFWRGENGRRTRVAYERMCNILKGKFQTAAQRAMVDQVRESRNPGNAEIEDLIFLARSALILRGSVAHKSCLPACVYGLAVASGYDFEREGYSLVGIDPFRLLQNSQVFSLIRPNENPAHKSQLVWMACHSAAFEDLRVSSFIRGTRMVPRGQLSTRGVQIASNENMEAMDSNTLELRSRYWAIRTRSGGNTNQQRASAGQISVQPTFSVQRNLPFERATIMAAFTGNTEGRTSDMRTEIIKMMESARPEDVSFQGRGVFELSDEKATNPIVPSFDMSNEGSYFFGDNAEEYDN',\n",
       "  '-----------------------------------------------------------------------------------------------------------------------------------GLTHIMIWHSNLNDATYQRTRALVRTGMDPRMCSLMQGSTLPRRSGAAGAAVKGVGTIAMELIRMIKRGINDRNFWRGENGRRTRVAYERMCNILKGKFQTAAQRAMMDQVRESRNPGNAEIEDLIFLARSALILRGSVAHKSCLPACVYGLAVASGHDFEREGYSLVGIDPFKLLQNSQVVSLMRPNENPAHKSQLVWMACHSAAFEDLRVSSFIRGKKVIPRGKLSTRGVQIASNENVETMDSNTLELRSRYWAIRTRSGGNTNQQKASAGQISVQPTFSVQRNLPFERATVMAAFSGNNEGRTSDMRTEVIRMMESAKPEDLSFQGRGVFELSDEKATNPIVPSFDMSNEGSYFFGDNAEEYD-',\n",
       "  '--------------------------------------------------------------------SAFDERRNRYLEENPSAGKDPKKTGGPVYKRREGKWVRELILYDKEEIRRIWRQANNGEDATAGLTHLMIWHSNLNDATYQRTRALVRTGMDPRMCSLMQGSTLPRRSGAAGAAVKGIGTMVMELIRMIKRGINDRNFWRGDNGRKTRIAYERMCNILKGKFQTAAQRAMMDQVRESRNPGNAEIEDLIFLARSALILRGSVAHKSCLPACVYGLAVASGYDFEREGYSLVGIDPFRLLQNSQVFSLIRSNENPAHKSHLVWMACHCAAVGDLKISIFIRGTRVIPRGRLSARGVQIASTENMGTIDSSTLELRSRYWAIRTRSGGNTNQHRASAGQISVQPTFSVQRSLPFERATIMAAF---------------------------------------------------------------------',\n",
       "  '-------------------------------------------------------------------------------------------TGGPIYRRRDGKWVRELILYDKEEIRRIWRQANNGEDATAGLTHMMIWHSNLNDATYQRTRALVRTGMDPRMCSLMQGSTLPRRSGAAGAAVKGIGTMVMELIRMIKRGINDRNFWRGENGRRTRIAYERMCNILKGKFQTAAQRAMVDQVRESRNPGNAEIEDLIFLARSALILRGSVAHKSCLPACVYGLAVASGYDFEREGYSLVGIDPFRLLQNSQVFSLIRPNENPAHKSQLVWMACHSAAFEDLRVSSFIRGTRMVPRGQLSTRGVQIASNENMETMDSNTLELRSRYWAIRTRSGGNTNQQRASAGQISV------------------------------------------------------------------------------------------',\n",
       "  '--------------------------------------------------------------------------------------------------------------------------------------------------------------------------TLPRRSGAAGAAVKGVGTMVMELIRMIKRGINDRNFWRGENGRRTRIAYERMCNILKGKFQTAAQRAMMDQVRESRNPGNAEIEDLIFLARSALILRGSVAHKSCLPACVYGLVVASGYDFEREGYSLVGIDPFRLLQNSQVFSLIRPNENPVHKSQLMWMACHSAAFEDLRVSSFIRGTKVVPRGQLSTRGVQIASNENMETMESITLELRSKYWAIRTRSGGNTNQQRASAGQISVQPTFSVQRNLPFERATIMAAFTGNNEGRTSDMRTEIIRMMESARPEDVSFQGRGVFELSDEKATNPVVPSFDMSNE--------------',\n",
       "  '-------------------------------------------------------------------------------------------------------------------------------------------------------------------------------SGAAGAAVKGVGTMVMELIRMIKRGVNDRNFWRGENGRRTRIAYERMCNILKGKFQTAAQRAMMDQVRESRSPGNAEIEDLIFLARSALILRGAVAHKSCLPACVYGLAVASGYDFEREGYSLVGIDPFRLLQNSQVFSLIRPNENPAHKSQLVWMACHSAAFEDLRVSSFIRGARLLPRGQISTRGVQIASNENMETMSSSTLELRSKYWAIRTRSGGNTNQQRAAAGQISVQPTFSVQRNLPFERATIMAAFTGNAEGRTSDMRTEIIRMMESARPEDVSFQGRGVFELSDEKATN-------------------------',\n",
       "  '----------------------------------------------------------------------------------------------------------------------------------------------LNDATYQRTRALVRTGMDPRMCSLMQGSTLPRRSGAAGAAVKGIGTMVMELIRMVKRGINDRNFWRGENGRKTRSAYERMCNILKGKFQTAAQRAMVDQVRESRNPGNAEIEDLIFLARSALILRGSVAHKSCLPACAYGPAVSSGYDFEKEGYSLVGIDPFKLLQNSQIYSLIRXXXXXXXXXXXXXXXXXXXXXXXXXXXXXXXXXXXXXXXXXSTRGVQIASNENMDNMGSSTLELRSGYWAIRTRSGGNTNQQRASAGQTSVQPTFSVQRNLPFEKSTIMAAFTGNTEGRTSDMRAEIIRMMEGAKPEEVSFRGRGVFELSDEKATNPIVP---------------------',\n",
       "  '---------------------------------------------------------------------------------------------------------------------------------------------------------------------------------AAGAAVKGIGTMVMELIRMIKRGINDRNFWRGENGRKTRSAYERMCNILKGKFQTAAQRAMVDQVRESRNPGNAEIEDLIFLARSALILRGSVAHKSCLPACVYGPAVSSGYDFEKEGYSLVGIDPFKLLQNSQVYSLIRPNENPAHKSQLVWMACHSAAFEDLRLLSFIRGTKVSPRGKLSTRGVQIASNENMDNMGSSTLELRSGYWAIRTRSGGNTNQQRASAGQISVQPTFSVQRNLPFEKSTVMAAFTGNTEGRTSDMRAEIIRMMDGAKPEEVSFRARGVFELSDEK----------------------------',\n",
       "  '-------------------------------------------------------------------------------------------------------------------------------------------------------------------------------------------------------------FWRGGKWKETRIAYERMCNILKGKFQTSAQRAMMDHVRESRHPGNAEIEDLIFLARSALILRGAVAHKSCLPACVYGLAVASGYDFEREGYSLVGIDPFRLLQNSQVFSLIRPNENPAHKSQLVWMACHSAAFEDLRVSSFIRGARVLPRGQLSTRGIQIASNENMETISSSTLELRSKYWAIRTRSGGNTNQQRASAGQISVQPTFSVQRDLPFERATIMAAFTGNAEGRTSDMRTEIIRMMESARPEDVSFQGRGVFELSDEKATNPIVPSFDMSKEGSYFFGDNAEEFD-',\n",
       "  '-----------------------------------------------------------------------------------------------------------------------------------------------------------------------------------------------------------------------------------RKLQTAAQRAMMDQVRESRNPGNAEVEDLLFIARSALILRGSVAHKSCLPACVYGLAVASGYDFEREGYSLVGIDPFRLLQNSQVFSLIRPNENPAHKSQLVWMACHSAAFEDLRVSSFIRGTRVLPRGQLSTRGVQIASNENMETMDSSTLELRSRYWAIRTRSGGNTNQQRASAGQVSVQPTFSVQRNLPFERATIMAAFTGNTEGRTSDMRTEIIRMMESAKPEDVSFQGRGVFELSDEKATNPIVPSFDMNNEGSYFFGDNAEEYDN',\n",
       "  'MASQGTKRSYEQMETGGERQNATEIRASVGRMVGGIGRFYIQMCTELKLSDHEGRLIQNSITIERMVLSAFDERRNRYLEEHPSAGKDPKKTGGPIYRRRDGNWARELILYDKEDIRRTWRQANNGEDATAGLTHMMIWHSNLNDATYQRTRALVRTGMDPRVCSLMQGSALPRRSGAAGAAVRGVGTMVMELIRMIKRGVNDRNFWRGENGRRTRIAYERMCNILKGKFQTAAQRAMVDQVRESRNPGNAEIEDLIFLARSAL------------------------------------------------------------------------------------------------------------------------------------------------------------------------------------------------------------------------------------------',\n",
       "  'MASQGTKRSYEQMDTGGERQNATEIRASVGRMVGGIGRFYIQMCTELKLSDYEGRLIQNSITIERMVLSAFDERRNKYLEEHPSAGKDPKKTGGPIYRRRDGKWMRELILYDKEEIRRVWRQANNGEDATAGLTHLMIWHSNLNDATYQRTRALVRTGMDPRMCSLMQGSTLPRRSGAAGAAVKGVGTMVMELIRMIKRGINDRNFWRGENGRRTRIAYERMCNILKGKFQTAAQRAMMDQVRESR------------------------------------------------------------------------------------------------------------------------------------------------------------------------------------------------------------------------------------------------------------',\n",
       "  '-------------------------------------------------------------------------------------------------------------------------------------------------------------------CSLMQGSTLPRRSGAAGAAVKGVGTMVMELVRMIKRGINDRNFWRGENGRKTRIAYERMCNILKGKFQTAAQKAMMDQVKESRNPGNAEFEDLTFLARSALILRGSVAHKSCLPACVYGPAVASGYDFEREGYSLVGIDPFRLLQNSQVYSLIRPNENPAHKSQLVWMACHSAAFEDLRVLSFIKGTKVLPRGKLSTRGVQIASNENMETMESSTLELRSRYWAIRT------------------------------------------------------------------------------------------------------------',\n",
       "  '---------------------------------------------------------------------------------------------------------------------------------------------------------------------------------------KGVGTMVMELIRMIKRGINDRNFWRGENGRRTRIAYERMCNILKGKFQTAAQRAMMDQVRESRNPGNAEIEDLIFLARSALILRGSVAHKSCLPACVYGLAVASGYDFEREGYSLVGIDPFRLLQNSQVFSLIRPNENPAHKSQLVWMACHSAAFEDLRVSSFIRGTRVVPRGQLSTRGVQIASNENMETMDSSTLELRSRYWAIRTRSGGNTNQQRASAGQISVQPTFSVQRNLPFERATL-------------------------------------------------------------------------',\n",
       "  '------------------------------------------------------------------------------------------------------------------------------------------------------------------------------------------------------------------------------------------QRAMMDQVREGRNPGNAEIEDLIFLARSALILRGSVAHKSCLPACVYGLAVTSGYDFEKEGYSLVGIDPFKLLQNSQIISLIRPKENPAHKSQLVWMACHSAAFEDLRVLNFIRGTKVIPRGQLATRGVQIASNENMETIDSSTLELRSKYWAIRTRSGGNTSQQRASAGQISVQPTFSVQRNLPFERATIMAAFTGNTEGRTSDMRTEIIRMMENAKSEDVSFQGRGVFELSDEKATNPIVPSFDM-----------------',\n",
       "  '---------------------------------------------------------------------------------------------------------------------------------------------------------------------------------------------------------------------------------------------------------------LIFLARSALILRGAVAHKSCLPACVYGLAVASGHDFEREGYSLVGVDPFKLLQNSQVFSLLRPNENPAHKSQLVWMACHSAAFEDLRISSFIRGKKVIPRGKLSTRGVQIASNENVESMDSNTLELRSRYWAIRTRSGGSTNQQKASAGQISVQPTFSVQRNLPFERATVMAAFSGNNEGRTSDMRTEIIRMMESAKPEDLSFQGRGVFELSDEKATNPIVPSFDMSNEGSYFFGDNAEEYDN',\n",
       "  '----------------------------------------IQMCTELKLSDNEGRLIQNSITIERMVLSAFDERRNRYLEEHPSAGKDPKKTGGPIYRRRDGKWVRELILYDKEEIRRIWRQANNGEDATAGLTHMMIWHSNLNDATYQRTRALVRTGMDPRMCSLMQGSTLPRRSGAAGAAVKGIGTMVMELIRMIKRGINDRNFWRGENGRRTRIAYERMCNILKGKFQTAAQRAMVDQVRESRNPGNAEIEDLIFLARSALIL----------------------------------------------------------------------------------------------------------------------------------------------------------------------------------------------------------------------------------------',\n",
       "  '--------------------------------------------------------------------------------------------------------------------------------------------------------------------------------------------------------------------------------------------------------------------------RGSVAHKSCLPACAYGPAVSSGYDFEKEGYSLVGIDPFKLLQNSQIYSLIRPNENPAHKSQLVWMACHSAAFEDLRLLSFIRGTKVSPRGKLSTRGVQIASNENMDNMGSSTLELRSGYWAIRTRSGGNTNQQRASAGQTSVQPTFSVQRNLPFEKSTIMAAFTGNTEGRTSDMRAEIIRMMESAKPEELSFRGRGVFELSDEKAANPIVPSFDMSNEGSYFFGDNAEEYDN',\n",
       "  'MASQGTQRSYEQMETGGERQNATEIRASVGRMVGGIGRFYIQMCTELKLSDHEGRLIQNSITIERMVLSAFDERRNKYLEEHPSAGKDPKKTGGPIYRRRDGKWMRELILYDKEEIRRIWRQANNGEDATAGLTHMMIWHSNLNDTTYQRTRALVRTGMDPRMCSLMQGSTLPRRSGAAGAAVKGVGTMAMELIRMIKRGINDRN-----------------------------------------------------------------------------------------------------------------------------------------------------------------------------------------------------------------------------------------------------------------------------------------------------',\n",
       "  '------------------RQTPEDIKKNVGEMIKGLANFFNQIMTQLYITPNERRLIQNSRAVEKMLLSATDTKKTDYLRKDAQEGKDPDTTGAVFYKEGNLIWYKQKETMGKEAIRSLYRAAMKG-EGFNGLNHIMVGHSQENDTCFQRSKAMKSVGLDTSLISTFAGSTLPRRAGQTGTAIKGTGTLIAEAIRFIKRMMNERSLKRDTSAMN---AYGKILANLKLKCPTNQQKELVAQVISSKNPGQAEIEDLILLARSCLIMRGSVTSKASFPLCMYAEALQ--HDWIGEGYSMVGHEAFYLYNRCTVVSIIRPGEDAQDKSQLFLMSCFGAAYEDLRVLSMVETIDFKPRSMLQSKGFHVPVKEQSDKMGAAIMRMKFSMWAPLTKSGGNEATSNGTSGQVAVQPTFSVERPIAISKTAIRKMMSVNVEGRSGDVKEALLNTMESRKTIGEAFTGKSFYKIGDEKKTTPIKPTLKQGI-PSFFFGDTAEDYD-',\n",
       "  '------------------------------------------------------------------------------------------------------------------------------------------------------------------------------------------------------------------------------------------------QVRESRNPGNAEIEDLIFLARSALILRGSVAHKSCLPACVYGLAVASGHDFEREGYSLVGIDPFKLLQNSQVFSLIRPNENPAHKSQLVWMACHSAAFEDLRVSSFIRGKKVVPRGKLSTRGVQIASSENVEAMDSRTLELRSRYWAIRTRSGGNTNQQKASAGQISVQPTFSVQRNXPFERSTIMAAXSGNNEGRTSDMRTEVIRMMESAKPE--------------------------------------------',\n",
       "  'MASQGTKRSYEQMETGGERQNTTEIRASVGRMVGGIGRFYIQMCTELKLSDNEGRLIQNSITIERMVLSPFDERRNRYLEEHPSAGRDPKKTGGPIYRRREGKWVRELVLYDKEEIRRIWRQANNGEDSTAGLTHLMIWHSNLNDATYQRTRALVRTGMDPRMCSLMQGSTLPRRSGAAGAAVKGVGTMVMELIRMIKRGVNDRNF----------------------------------------------------------------------------------------------------------------------------------------------------------------------------------------------------------------------------------------------------------------------------------------------------',\n",
       "  '------------------KQTPTEIKKSVYNMVVKLGEFYNQMMVKAGLNDDERNLIQNAYAVERILLAATDDKKTEFQKKDVKEGKDHNKTGGTFYKMVRTIYFSPIITFLKEEVKTMYK-TTMGSDGFSGLNHIMIGHSQMNDVCFQRSKALKRVGLDPSLISTFAGSTVPRRSGATGVAIKGGGTLVAEAIRFIGRAMADRGLLRDI---KAKTAYEKILLNLKNKCSAPQQKALVDQVIGSRNPGIADIEDLTLLARSMIVVRPSVASKVVLPISIYAKIPQLGFNV--EEYSMVGYEAMALYNMATPVSILRMGDDAKDKSQLFFMSCFGAAYEDLRVLSALTGTEFKPRSALKCKGFHVPAKEQVEGMGAALMSIKLQFWAPMTRSGGNEAGGDGGSGQISCSPVFAVERPIALSKQAVRRMLSMNIEGRDADVKGNLLKMMNDSMAKKTSFIGKKMFQISDKNKTNPIEIPIKQTI-PNFFFGDTAEDYD-',\n",
       "  '---------------GGERQDATEIRASVGRMIGGIGRFYIQMCTELKLSDYDGRLIQNSITMERMVLSAFDERRNKYLEEHPSAGKDPKKTGGPIYGRIDGKWMRELILYDKEYIMIWHSNLNDATYQRTRALVIMIWHSNLNDATYQRTRALVRTGMDPRMCSLMQGSTLPRRSGAAGAAVKGVGTIAMELIRMIKRGINDRNFWRGENGRKTRVAYERMCNILKGKFLTA-------------------------------------------------------------------------------------------------------------------------------------------------------------------------------------------------------------------------------------------------------------------------',\n",
       "  'MALQGTKRSYEQMETGGERQNATEIRASVGRMVGGIGRFYIQMCTELKLSDYEGRLIQNSITIDRMVLSAFDERRNRYLEENPSAGKDPKKTGGPIYKRREGKWVRELILYDKEEIRRIWRQANNGEDATAGLTHLMIWHSNLNDATYQRTRALVRTGMDPRMCSLMQGSTLPRRSGAAGAAIKGIGTMVMELIR---------------------------------------------------------------------------------------------------------------------------------------------------------------------------------------------------------------------------------------------------------------------------------------------------------------',\n",
       "  '-------------------------------------------------------------------------------------------------------------------------------------------------------------------------------------------------------------------------------------------------------------------------------------------------------------DRFRLLQNSQVFSLIRPNENPAHKSQLVWMACHSAAFEDLRVSSFIRGTRVIPRGQLSTRGVQIASNENMEKIDSSTLELRSRYWAIRTRSGGNTNQQRASAGQISVQPTFSVQRNIPFERATIMATFTGNTEGRTSDMRTEIIRMMEGAKPEDVSFQGRGVFELSDEKATKPIVPSFDMSNEGSYFFGDNAEEYD-',\n",
       "  '-------------ETDGERQNATEIRASVGKMIDGIGRFYIQMCTELKLSDYEGRLIQNSLTIERMVLSAFDERRNKYLEEHPSAGKDPKKTGGPIYRRVDGKWRRELILYDKEEIRRIWRQANNGDDATAGLTHMMIWRSNLNDATYQRTRALVRTGMDPRMCSLMQGSTLPRRSGAAGAAVKGVGTMVMEL-----------------------------------------------------------------------------------------------------------------------------------------------------------------------------------------------------------------------------------------------------------------------------------------------------------------',\n",
       "  '-------------------------------------------------------------------------------------------------------------------------------------------------------------------------------------------------------------------------------------------------------------------ARSALILRGSVAHKSCLPACVYGLAVTSGYDFEKEGYSLVGIDPFKLLQNSQIFSLIRPKENPAHKSQLVWMACHSAAFEDLRVLNFIRGTKVIPRGQLATRGVQIASNENMETIDSNTLELRSRYWAIRTRSGGNTSQQRASAGQISVQPTFSVQRNLPFERATIMAAFTGNTEGRTSDMRTEIIRMMENAKSE--------------------------------------------',\n",
       "  '-------------------------------------------------------------------------------------------------------------------------------------------------------------------------------------------------------------------------------------------------------------------ARSALILRGSVAHKSCLPACVYGLAVASGYDFEREGYSLVGIDPFRLLQNSQVFSLIRPNENPAHKSQLVWMACHSAAFEDLRVSSFIRGTRVIPRGQLSTRGVQIASNENMEKIDSSTLELRSRYWAIRTRSGGNTNQQRASAGQISVQPTFSVQRNIPSERATIMATFTGNTEGRTSDMRTEIIRMM--------------------------------------------------',\n",
       "  'MASQGTKRSYEQMETGGERQNATEIRASVGRMVSGIGRFYIQMCTELKLSDYEGRLIQNSITIERMVLSAFDERRNRYLEEHPSAGKDPKKTGGPIYRRRDGKWVRELILYEKEEIRRIWRQANNGEDATAGLTHLMIWHSNLNGATYQRTRALVRTGMDPRMCSLMQG-----------------------------------------------------------------------------------------------------------------------------------------------------------------------------------------------------------------------------------------------------------------------------------------------------------------------------------------',\n",
       "  'MATQGTKRSYEQMETGGERQNTTEIRASVGRMVEGIGRFYIQMCTELQLSDYEGRLIQNSITIERMVLSAFDERRNKYLEEHPSAGKDPKKTGGPIYKKRDGKWMRELILYDKDEIRRIWRQANNGEDATAGLTHLMIWHSNLNDATYQRTRALVRTGMDPRMCSLMQGS----------------------------------------------------------------------------------------------------------------------------------------------------------------------------------------------------------------------------------------------------------------------------------------------------------------------------------------',\n",
       "  '------------------------------------------------------------------------------------------------------------ITFLKEEVKTMYK-TTMGSDGFSGLNHIMIGHSQMNDVCFQRSKALKRVGLDPSLISTFAGSTVPRRSGATGVAIKGGGTLVAEAIRFIGRAMADRGLLRDI---KAKTAYEKILLNLKNKCSAPQQKALVDQVIGSRNPGIADIEDLTLLARSMVVVRPSVASKVVLPISIYAKIPQLGFNV--EEYSMVGYEAMALYNMATPVSILRMGDDAKDKSQLFFMSCFGAAYEDLRVLSALTGTEFKPRSALKCKGFHVPAKEQVEGMGAALMSIKLQFWAPMTRSGGNEVGGDGGSGQISCSPVFAVERPIALSKQAVRRMLSMNIEGRDADVKGNLLKMMNDSMAKKTSFIGKKMFQISDKNKTNPIEIPIKQTI-PNFFFGDTAEDYD-',\n",
       "  'MASQGTKRSYEQMETGGERQNATEIRASVGRMVGGIGRFYIQMCTELKLNDYEGRLIQNSITIERMVLSAFDERRNKYLEEHPNAGKDPKKTGGPIYRRRDGKWVRELILYDKEEIRRIWRQANNGEDATAGLTHLMIWHSNLNDATYQRTRALVRTGMDPR------------------------------------------------------------------------------------------------------------------------------------------------------------------------------------------------------------------------------------------------------------------------------------------------------------------------------------------------',\n",
       "  '------------------------------------------------------------------------------------------------YRRRDGKWVRELILYDKEEIRRIWRQANNEEDATAGLTHLMIWHSNLNDATYQRTRALVRTGMDPRMCSLMQGSTLPRRSGAAGAAVKGVGTMVMELIRMIKRGINDRNFWRGENGRRTRIAYERMCNILKGKFQTAAQRAMMDQVRESRNPGNAEIEDL--------------------------------------------------------------------------------------------------------------------------------------------------------------------------------------------------------------------------------------------------',\n",
       "  '-------RSYEQMETGGERQNATEIRASVGKMVGGIGRFYVQMCTELKLSDYEGRLIQNSITIERMILSAFDERRNKYLEEHPSVGKDPKKTGGPIYRRRDGKWVRELILYDKEEIRRIWRQANNGEDATAGLTHLMIWHSNLNDATYQRTRALVRTGMDPRMCS---------------------------------------------------------------------------------------------------------------------------------------------------------------------------------------------------------------------------------------------------------------------------------------------------------------------------------------------',\n",
       "  '-----------------------------------------------------------------------------------------------------------------------------------------------------------------------------------------------------------------------------------------------DQVRESRNPGNAEIEDLIFLARSALILRGSVAHKSCLPACVYGPAVSSGYDFEKEGYSLVGIDPFKLLQNSQVYSLIRPNENPAHKSQLVWMACHSAAFEDLRLLSFIRGTKVSPRGKLSTTGVQIASNENMDNMGSSTLELRSGYWAIRTR-----------------------------------------------------------------------------------------------------------',\n",
       "  '---------------------------------------------ELKLSDYDGRLIQNSITIERMVLSAFDERRNKYLEEHPSAGKDPKKTGGPIYRRIDGKWMRELILYDKEEIRRVWRQANNGEDATAGLTHIMIWHSNLNDATYQRTRALVRTGMDPRMCSLMQGSTLPTRSGAAGAAVKGIGT----------------------------------------------------------------------------------------------------------------------------------------------------------------------------------------------------------------------------------------------------------------------------------------------------------------------',\n",
       "  '-----------------------------------------------------------------------------------------------------------------------------------------------------------------------------------------------------------------------------------------------------------------------------------------------------------------------------------------WMACHSAAFEDLRVSSFIRGTRVLPRGKLSTRGVQIASNENMDAIVSSTLELRSRYWAIRTRSGGNTNQQRASAGQISTQPTFSVQRNLPFDKTTIMAAFTGNTEGRTSDMRAEIIKMMESARPEEVSFQGRGVFELSDEKATNP------------------------',\n",
       "  '---------------------------------------------------------------------------------------------------------------------------------------------------------------------------------------------------------------------------------------------------------------------------------------------------------------------------------------LVWMACHSAAFEDLRVSSFIRGTRVVPRGQLSTRGVQIASNENMETMDSSTLELRSRYWAIRTRSGGNTNQQRASAGQISVQPTFSVQRNLPFERATIMAAFTGNTEGRTSDMRTEIIRMMESARPEDVSFQGRGVFELS-------------------------------',\n",
       "  '-----TKRSYEQMETGGERQNATEIRASVGRMVSGIGRFYIQMCTELKFSDYEGRLIQNSIIMERMVLSAFDERRNRYLEEHPSAGKDPKKTGGPIYRRRDGKWVRELILYDKEEIRGIWRQANNGEDATAGLTHLMIWH----------------------------------------------------------------------------------------------------------------------------------------------------------------------------------------------------------------------------------------------------------------------------------------------------------------------------------------------------------------------',\n",
       "  '---------------------------------------------------------------------------------------------------------------------------------------------------------------------------------------------------------------------------------------------------------------------------------------------------------------------------------------------HSAAFEDLRLLSFIRGTKVSPRGKLSTRGVQIASNENMDNMGSSTLELRSGYWAIRTRSGGNTNQQRASAGQISVQPTFSVQRNLPFEKSTVMAAFTGNTEGRTSDMRAEIIRMMEGAKPEEVSFRGKGVFELSDEKA---------------------------',\n",
       "  '------------METGGERQNATEIRASVGRMVGGIGRFYIQMCTELKLSDHEGRLIQNSITIERMVLSAFDERRNKYLEEHPSAGKDPKKTGGPIYRRRDGKWVRELVLYDKEEIRRIWRQANGGENATSRLT----------------------------------------------------------------------------------------------------------------------------------------------------------------------------------------------------------------------------------------------------------------------------------------------------------------------------------------------------------------------------',\n",
       "  '-------------------------------------------------------------------------------------------------------------------------------------------------------------------------------------------------------------------------------------------------------------------------------HKFCLPACVYGLAVASGYDFEREGYSLVGIDPFRLLQNSQVFSLIRPNENPAHKSQLVWMACHSAAFEDLRVSSFIRGTRVIPRGQLSTRGVQIASNENMETMDSSTLELRSRYW----------------------------------------------------------------------------------------------------------------',\n",
       "  '----------------------------------------------------------------------------------------------------------------------------------------------------------------------------------------------------------------------------------------------------------------------------------------------------------------------------------------------------------------------------------------STLELRSRYWAIRTRSGGNTNQQRASAGQVSVQPTFSVQRNLPFERATIMAAFTGNTEGRTSDMRTEIIRMMESARPEDVSFQGRGVFELSDEKATNPIVPSFDINNEGSYFSGDK------',\n",
       "  '----------------------------------------------------------------------------------------------------------------------------------------------------------------------------------------------------------------------------------------------------------------------------------------------------------------------------------------------------------------------------------------STLELRSRYWAIRTRSGGNTNQHRASAGQISVQPTFSVQRSLPFERATIMAAFTGNTEGRTSDMRTEIIRMMENAKPEDVSFQGRGVFELSDEKATNPIVPSFDMNNEGSYSFGDN------',\n",
       "  '----------------------------------------------------------------------------------------------------------------------------------------------------------------------------------------------------------------------------------------------------------------------------------------------------------------------------------------------------------------------------------------STLELRSRYWAIRTRSGGNTNQNRASAGQISVQPTFSVQRSLPFERATIMAAFTGNTEGRTSDMRTEIIRMMENAKPEDVSFQGRGVFELSDEKATNPIVPSVDMKKEPSFFFGDN------',\n",
       "  '----------------------------------------------------------------------------------------------------------------------------------------------------------------------------------------------------------------------------------------------------------------------------------------------------------------------------------------------------------------------------------------STLELRSRYWAIRTRSGGNTNQHRASAGQISVQPTFSVQRSLPFERATIMAAFTGNTEGRTSDMRTEIIRMMENAKPEDVSFQGRGVFELSDEKPTNPIVPSFYMNKEPSCSFGDN------',\n",
       "  'MASQGTKRSYEQMETGGERQNATEIRASVGRMVGGIGRFYIQMCTELKLSDQEGRLIQNSITIERMVLSAFDERRNRFLXEHPSAGKDPKKTGGPIYRRRDGKWVRELIL----------------------------------------------------------------------------------------------------------------------------------------------------------------------------------------------------------------------------------------------------------------------------------------------------------------------------------------------------------------------------------------------------',\n",
       "  '---------------------------------------------------------------------------------------------------------------------------------------------------------------------------------------------------------------------------------------------------------------------------------------------------------------------------------------------------DLRVLSFIKGTKVLPRGKLSTRGVQIASNEDMETMESSTLELRSRYWAIRTRSGGNTNQQRASAGQISIQPTFSVQRNLPFDRTTIMAAFNGNTEGRTS------------------------------------------------------------',\n",
       "  '------------------KQTPTEIKKSVYNMVVKLGEFYNQMMVKAGLNDDERNLIQNAHAVERILLAATDDKKTEFQKKDVKEGKDHNKTGGTFYKMVRTIYFSPIITFLKEEVKTMYK-TTMGSDGFSGLNHIMIGHSQMNDVCFQRSKALKRVGLDPSLISTFAGSTIPRRSGATGVAIKGGGTLVAEAIRFIGRAMADRGLLRDI---KAKTAYEKILLNLKNKCSAPQQKALVDQVIGSRNPG---------------------------------------------------------------------------------------------------------------------------------------------------------------------------------------------------------------------------------------------------------',\n",
       "  '---------------------------------------------------------------------------------------------------------------------------------------------------------------------------------------------------------------------KAKTAYEKILLNLKNKCSAPQQKALVDQVIGSRNPGIADIEDLTLLARSMVVVRPSVASKVVLPISIYAKIPQLGFNV--EEYSMVGYEAMALYNMATPVSILRVGDDAKDKSQLFFMSCFGAAYEDLRVLSALTGTEFKPRSALKCKGFHVPAKEQVEGMGAALMSIKLQFWAPMTRSGGNEVGGDGGSGQISCSPVFAVERPIALSKQAVRRMLSMNIEGRDADVKGNLLKMMNDSMAKKTTFIGKKMFQISDKNKTN-------------------------',\n",
       "  '------------------------------------------------------------------------------------------------------------------------------------------------------------------------------------------------------------------------------------------------------------------------------------------------------------------------------------------------------------------------------------------------YWAISTRSGGNTNQQKASAGQISVQPTFSVQRNLPFERATVMAAFSGNNEGRTSDMRTEVIRMMESAKPEDLSFQGRGVFELSDEKATNPIVPSFDMSNEGSYFFGDNA-----',\n",
       "  '------------------------------------------------------------------------------------------------------------------------------------------------------------------------------------------------------------------------------------------------------------------------------------------------------------------------------------------------------------------------------------------------------------NQQRASAGQISVQPTFSVQRNLPFERATIMAAFTGNTEGRTSDMRTEIIRMMESVRPEDVSFQGRGVFELSDEKATNPIVPSFDMSKEGSYFFGDNAEEYDN',\n",
       "  '------------------------------------------------------------------------------------------------------------------------------------------------------------------------------------------------------------------------------------------------------------------------------------------------------------------------------------------------------------------------------------------------------------NQQRASAGQISVQPTFSVQRNLPFERATIMAAFTGNSEGRTSDMRTEIIRMMESAKPEDVSFQGRGVFELSDEKATNPIVPSFDMNNEGSYFFGDKAEEYDN',\n",
       "  '--------------------------------------------------------------------------------------------------------------------------------------------------------------------------------------------------------------------------------------------------------------------------------------------------------------------------------------------------------------------------------ENMETVDSSTLELRSRYWAIRTRSGGNTNQNRASAGQISVQPTFSVQRSLPFERATIMAAFTGNTEGRTSDMRTEIIRMMENAKPEDVSFQGREVFELSDEKAT--------------------------',\n",
       "  '-----------------------------------------------------------------------------------------------------------------------------------------------------------------------------------------------------------------------------------------------------------------------------------------------------------------------------------------------------------------------------------ENMDSSTLELRSRYWAIRTRSGGNTNQQKASAGQISVQPTFSVQRNLPFERATVMAAFIGNNEGRTSDMRTEIIRMMENAKTEDVSFQGRGVFELSDEKATNPIV----------------------',\n",
       "  '--------------------------------------------------------IQISITIERMVLSAFDERRNRYLEEHPSAGKDPKKTGGPIYRRRDGKWMRELILYDKEEIRRIWRQANNGEDATAGLTHLMIWHSNLNDATYQRTR----------------------------------------------------------------------------------------------------------------------------------------------------------------------------------------------------------------------------------------------------------------------------------------------------------------------------------------------------------',\n",
       "  'MASQGTKRSYEQMETGGERQDATEIRASVGRMIGGIGRFYIQMCTELKLSDYDGRLIQNSITIERMVLSAFAERRNKYLEEHPSAGKDPKKTGG--------------------------------------------------------------------------------------------------------------------------------------------------------------------------------------------------------------------------------------------------------------------------------------------------------------------------------------------------------------------------------------------------------------------',\n",
       "  'MAFSGTKRSYEQMETGGERQDASEIRASVGRMIGGIGRFYIQMCTELKLSDYDGRLILNSITIERVVLSAFDERRNKYLEEHPSAGKDPKKTG---------------------------------------------------------------------------------------------------------------------------------------------------------------------------------------------------------------------------------------------------------------------------------------------------------------------------------------------------------------------------------------------------------------------',\n",
       "  '----------------------------------------------------------------------------------------------------------------------------------------------------------------------------------------------------------------------------------------------------------------------------------------------------------------------------------------------------------------------------------------------------RTRSGGNTNQQRASAGQISVQPTFSVQRNLPFERATIMAAFTGNTEGRTSDMRTEIIRMMESARPEDVSFQGRGVFELSDEKATNP------------------------',\n",
       "  '----------------------------------------------------------------------------------------------------------------------------------------------------------------------------------------------------------------------------------------------MDPVRESRNPGNAEIEDLIFLARSALILRGSVAHKSCLPACVYGLAVASGHDFEREGYSLVGIDPFKLLQNSQVFSLIRPNENPAHK-----------------------------------------------------------------------------------------------------------------------------------------------------------------------------',\n",
       "  'MASQGTKRSYEQMETGGERQNATEIRASVGRMVGGIGRFYIQMCTELKLSDYEGRLIQNSITVERMLLSAFDERRNKYLEEHPSAG----------------------------------------------------------------------------------------------------------------------------------------------------------------------------------------------------------------------------------------------------------------------------------------------------------------------------------------------------------------------------------------------------------------------------',\n",
       "  '-----------------------------------------------------------------------------------------------------------------------------------------------------------------------------------------------------------------------------------NKCSAPQQKALVDQVIGSRNPGIADIEDLTLLARSMVVVRPSVASKVVLPISIYAKIPQLGFNV--EEYSMVGYEAMALYNMATPVSILRVGDDAKDKSQLFFMSCFGAAYEDLRVLSALTGTEFKPRSALKCKGFHVPTKEQVEGMGAALMSIKLLFWAPMTRSGGNEVGGD--------------------------------------------------------------------------------------------------',\n",
       "  '--------------------------------------------------------------------------------------------------------------------------------------------------------------------------------------------------------------------------------------------------------------DLTFLARSALIWRGSVAHKSCLPACVYGPAVASGYDFEKEGYSLVGVDPFKLLQTSQVYSLIRPNENPAHKSQ---------------------------------------------------------------------------------------------------------------------------------------------------------------------------',\n",
       "  '-----TKRSYEQMETSGERQNATETRASVGRMVSGIGRFYIQMCTELKLSDYEGRLIQNSITIERMVLSAFDERRNRYLE----------------------------------------------------------------------------------------------------------------------------------------------------------------------------------------------------------------------------------------------------------------------------------------------------------------------------------------------------------------------------------------------------------------------------------',\n",
       "  'MASQGTKRSYEQMETGGERQNATEIRASVGTMVGGIGRFYMQMCTELKLSDQEGMLIHNSITVERMVLSAFDE-----------------------------------------------------------------------------------------------------------------------------------------------------------------------------------------------------------------------------------------------------------------------------------------------------------------------------------------------------------------------------------------------------------------------------------------',\n",
       "  '----------------------------------------------------------NSITIERMVLSAFDERRNRYLEEHPSAGKDPKKTGGPIYRRRDGKWVRELILYDKEEIRRIWRQANNGED----------------------------------------------------------------------------------------------------------------------------------------------------------------------------------------------------------------------------------------------------------------------------------------------------------------------------------------------------------------------------------',\n",
       "  '----------------------------------------------------------------------------------------------------------------------------------------------------------------------------------------------------------------------------------------------------------------------------------------------------------------------------------------------------------------------------------------------------------------------------------------VMAAFSGNNEGRTSDMRSEVIRMMESARPEDLSFQGRGVFELSDEKATNPIVPSFDMSNEGSYFFGDNAEE---',\n",
       "  '------------------------------------------------------------------------------LEEHPXAGKDPKKTGGPIYRRGDGKWMRELILYDKEEIRRIWRQANNGEDATAGLTHLMVWHSNLNDAT---------------------------------------------------------------------------------------------------------------------------------------------------------------------------------------------------------------------------------------------------------------------------------------------------------------------------------------------------------------',\n",
       "  '-------------------------------------------------------------------------------------------------------------------------------------------------------------------------------------------------------------------------------------------------------------------------------------------------------------------------------------------------------------TKVLPRGKLSTRGVQITSNEHMETMESSTLELRSRYWAIRTRSGGNTNQQRASAGQISIQPTFS-------------------------------------------------------------------------------------',\n",
       "  '------------------------------------------------------------------------------------------------------------------------------------------------------------------------------------------------------------------------------------------------------------------------------------------------------------------------------------KSQLFFMSCFGAAYEDLRVLSALTGTEFKPRSALKCKGFHVPAKEQVEGMGAALMSIKLQFWAPMTRSGGNEVGGDGGSGQISCSPVFAVERPIALSKQAVRRMLSMNIEGRDADVKGNLLKMMNDSMAKKTSFIGKKMFQISDKNKTNPIEIPIKQTI-PNFFFGETAEDYD-',\n",
       "  '-----------------------------------------------------------------------------YLEEHPSAGKDPKKTGGPIYKRVDGXWMRELVLYDKEEIRRXXRQAIXGDDATAGLTHMMIWHSNLNDTT---------------------------------------------------------------------------------------------------------------------------------------------------------------------------------------------------------------------------------------------------------------------------------------------------------------------------------------------------------------',\n",
       "  '----------------------------------------------------------------------------------PSAGKDPKKTGGPIYRRVDGKWMRELILYDKEEIRRVWRQANNGEDATAGLTHIMFWHSNLNDATY--------------------------------------------------------------------------------------------------------------------------------------------------------------------------------------------------------------------------------------------------------------------------------------------------------------------------------------------------------------',\n",
       "  '-------------------------------------------------------------------------------------------------------------------------------------------------------------------------------------------------------------------------------------------------------------------------------------------------------------------------------------------------------------------------------------------------------------------------------------RATVMGAFSGNNEGRTSDMRTEVIRMMESAKPEDLSFQGRGVFELSDEKATNPIVPSFDMSNEGSYFFGD-------',\n",
       "  '---------------------------------------------------------------------------------------------------------------------------------------------------------------------------------------------------------------------------------------------------------------------------------------------------------------------------------------------------DLRVLSFIKGTKVLPRGKLSTRGVQIASDENMETMESSTLELRSRYWAIRTRSGGNTN-----------------------------------------------------------------------------------------------------',\n",
       "  '---------------------------------------------------------------------------------------------------------------------------------------------------------------------------------------------------------------------------------------------------------------------------------------------------------------------------------------------------DLRVLSFIKGTKVLPRGKLSTRGVQIAPNENMETMESSTLELGSRYWAIRTRSGGNTN-----------------------------------------------------------------------------------------------------',\n",
       "  'MASQGTKRSYEQMETGGERQDATEIRASVGRMIGGIGRFYIQMCTELKLSDYDGRLIQN-------------------------------------------------------------------------------------------------------------------------------------------------------------------------------------------------------------------------------------------------------------------------------------------------------------------------------------------------------------------------------------------------------------------------------------------------------'],\n",
       " 'str_emb': array([[-0.14331664,  0.00542016, -0.0623758 , ...,  0.07369845,\n",
       "         -0.05656541,  0.00299946],\n",
       "        [-0.06364608, -0.03601642,  0.02235739, ..., -0.00990604,\n",
       "         -0.08993724,  0.02372409],\n",
       "        [-0.03019838, -0.02447301,  0.02076174, ..., -0.0213144 ,\n",
       "         -0.06796851,  0.08609857],\n",
       "        ...,\n",
       "        [ 0.02623028,  0.06934172, -0.01579023, ...,  0.02853269,\n",
       "          0.05630016,  0.01859715],\n",
       "        [-0.08510721,  0.03475758,  0.00939942, ...,  0.02860377,\n",
       "         -0.0799266 ,  0.07523319],\n",
       "        [-0.0747441 , -0.01816611, -0.00219293, ...,  0.00476226,\n",
       "         -0.0785004 ,  0.08333043]], dtype=float32)}"
      ]
     },
     "execution_count": 10,
     "metadata": {},
     "output_type": "execute_result"
    }
   ],
   "source": [
    "sample"
   ]
  },
  {
   "cell_type": "markdown",
   "id": "b5636d4b",
   "metadata": {},
   "source": [
    "## Training by Command Line\n",
    "\n",
    "Config file: \n",
    "* [substitution_LoRA_DDP.yaml](../ModelGenerator/experiments/AIDO.Protein-RAG/DMS_RAG/configs/substitution_LoRA_DDP.yaml)\n",
    "* [wandb.yaml](../ModelGenerator/experiments/AIDO.Protein-RAG/DMS_RAG/configs/wandb.yaml)\n",
    "\n",
    "```bash\n",
    "export HF_HOME=/tmp/hf_cache\n",
    "\n",
    "mgen fit \\\n",
    "    --config experiments/AIDO.Protein-RAG/DMS_RAG/configs/substitution_LoRA_DDP.yaml \\\n",
    "    --config experiments/AIDO.Protein-RAG/DMS_RAG/configs/wandb.yaml \\\n",
    "    --trainer.logger.project AIDO_Protein_DMS_LoRA_DDP \\\n",
    "    --trainer.logger.name Q2N0S5_9HIV1_Haddox_2018_fold0 \\\n",
    "    --trainer.logger.id Q2N0S5_9HIV1_Haddox_2018_fold0_98hto81p \\\n",
    "    --trainer.default_root_dir logs/DMS_Benchmark \\\n",
    "    --trainer.logger.save_dir logs/DMS_Benchmark \\\n",
    "    --data.train_split_files \"[singles_substitutions/Q2N0S5_9HIV1_Haddox_2018.tsv]\" \\\n",
    "    --data.cv_test_fold_id 0 \\\n",
    "    --trainer.precision bf16-mixed \\\n",
    "    --trainer.accumulate_grad_batches 1 \\\n",
    "    --trainer.num_nodes 1 \\\n",
    "    --data.batch_size 1 \\\n",
    "    --model.init_args.backbone.init_args.config_overwrites.str_embedding_in 384 \\\n",
    "    --trainer.callbacks.patience 10\n",
    "```\n",
    "\n",
    "<img src=\"images/rag_dms_curve.png\" alt=\"AIDO.Protein-RAG curve\" width=\"80%\" style=\"background-color:white;\"/>"
   ]
  },
  {
   "cell_type": "code",
   "execution_count": null,
   "id": "5012508e",
   "metadata": {},
   "outputs": [],
   "source": []
  }
 ],
 "metadata": {
  "kernelspec": {
   "display_name": "genbio",
   "language": "python",
   "name": "python3"
  },
  "language_info": {
   "codemirror_mode": {
    "name": "ipython",
    "version": 3
   },
   "file_extension": ".py",
   "mimetype": "text/x-python",
   "name": "python",
   "nbconvert_exporter": "python",
   "pygments_lexer": "ipython3",
   "version": "3.12.12"
  }
 },
 "nbformat": 4,
 "nbformat_minor": 5
}
